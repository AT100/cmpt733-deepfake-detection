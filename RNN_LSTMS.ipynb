{
 "cells": [
  {
   "cell_type": "code",
   "execution_count": 2,
   "id": "external-bahamas",
   "metadata": {},
   "outputs": [],
   "source": [
    "from tensorflow.keras.models import Model as KerasModel\n",
    "from tensorflow.keras.layers import Input, Dense, Flatten, Conv2D, MaxPooling2D, BatchNormalization, Dropout, Reshape, Embedding, LSTM\n",
    "from tensorflow.keras import layers\n",
    "from tensorflow.keras.optimizers import Adam\n",
    "from tensorflow.keras.models import Sequential\n",
    "from tensorflow import keras\n",
    "import matplotlib.pyplot as plt"
   ]
  },
  {
   "cell_type": "code",
   "execution_count": 1,
   "id": "bf6d398b",
   "metadata": {},
   "outputs": [
    {
     "name": "stdout",
     "output_type": "stream",
     "text": [
      "Tensor Flow Version: 2.3.1\n",
      "Keras Version: 2.4.0\n",
      "\n",
      "Python 3.7.10 | packaged by conda-forge | (default, Feb 19 2021, 15:37:01) [MSC v.1916 64 bit (AMD64)]\n",
      "Pandas 1.2.3\n",
      "Scikit-Learn 0.24.1\n",
      "GPU is available\n"
     ]
    }
   ],
   "source": [
    "import sys\n",
    "\n",
    "import tensorflow.keras\n",
    "import pandas as pd\n",
    "import sklearn as sk\n",
    "import tensorflow as tf\n",
    "\n",
    "print(f\"Tensor Flow Version: {tf.__version__}\")\n",
    "print(f\"Keras Version: {tensorflow.keras.__version__}\")\n",
    "print()\n",
    "print(f\"Python {sys.version}\")\n",
    "print(f\"Pandas {pd.__version__}\")\n",
    "print(f\"Scikit-Learn {sk.__version__}\")\n",
    "gpu = len(tf.config.list_physical_devices('GPU'))>0\n",
    "print(\"GPU is\", \"available\" if gpu else \"NOT AVAILABLE\")"
   ]
  },
  {
   "cell_type": "code",
   "execution_count": 3,
   "id": "imposed-robinson",
   "metadata": {},
   "outputs": [
    {
     "name": "stdout",
     "output_type": "stream",
     "text": [
      "Name: /physical_device:GPU:0   Type: GPU\n"
     ]
    }
   ],
   "source": [
    "import tensorflow as tf\n",
    "gpus = tf.config.experimental.list_physical_devices('GPU')\n",
    "for gpu in gpus:\n",
    "    print(\"Name:\", gpu.name, \"  Type:\", gpu.device_type)"
   ]
  },
  {
   "cell_type": "code",
   "execution_count": 4,
   "id": "legitimate-interview",
   "metadata": {},
   "outputs": [
    {
     "name": "stdout",
     "output_type": "stream",
     "text": [
      "Found 16410 files belonging to 2 classes.\n",
      "Using 13128 files for training.\n",
      "Found 16410 files belonging to 2 classes.\n",
      "Using 3282 files for validation.\n",
      "['fake', 'real']\n"
     ]
    }
   ],
   "source": [
    "train_dir = 'dataset/train_images'\n",
    "val_dir = 'dataset/val_images'\n",
    "test_dir = 'dataset/test_images'\n",
    "\n",
    "#datagen = ImageDataGenerator(1./255)\n",
    "train_generator = tf.keras.preprocessing.image_dataset_from_directory(\n",
    "    train_dir,\n",
    "    validation_split=0.2,\n",
    "    batch_size=64,\n",
    "    image_size=(256,256),\n",
    "    seed=123,\n",
    "    color_mode='rgb',\n",
    "    subset = 'training'\n",
    ")\n",
    "val_generator = tf.keras.preprocessing.image_dataset_from_directory(\n",
    "    train_dir,\n",
    "    validation_split=0.2,\n",
    "    batch_size=64,\n",
    "    image_size=(256,256),\n",
    "    seed=123,\n",
    "    color_mode='rgb',\n",
    "    subset = 'validation'\n",
    ")\n",
    "print(train_generator.class_names)"
   ]
  },
  {
   "cell_type": "code",
   "execution_count": 5,
   "id": "2c64e3f3",
   "metadata": {},
   "outputs": [
    {
     "name": "stdout",
     "output_type": "stream",
     "text": [
      "(64, 256, 256, 3)\n",
      "(64,)\n"
     ]
    }
   ],
   "source": [
    "for batch, label in train_generator:\n",
    "    print(batch.shape)\n",
    "    print(label.shape)\n",
    "    break"
   ]
  },
  {
   "cell_type": "code",
   "execution_count": 6,
   "id": "recent-sunrise",
   "metadata": {},
   "outputs": [
    {
     "name": "stdout",
     "output_type": "stream",
     "text": [
      "Model: \"sequential\"\n",
      "_________________________________________________________________\n",
      "Layer (type)                 Output Shape              Param #   \n",
      "=================================================================\n",
      "rescaling (Rescaling)        (None, 256, 256, 3)       0         \n",
      "_________________________________________________________________\n",
      "conv2d (Conv2D)              (None, 256, 256, 16)      448       \n",
      "_________________________________________________________________\n",
      "max_pooling2d (MaxPooling2D) (None, 128, 128, 16)      0         \n",
      "_________________________________________________________________\n",
      "conv2d_1 (Conv2D)            (None, 128, 128, 32)      4640      \n",
      "_________________________________________________________________\n",
      "max_pooling2d_1 (MaxPooling2 (None, 64, 64, 32)        0         \n",
      "_________________________________________________________________\n",
      "conv2d_2 (Conv2D)            (None, 64, 64, 64)        18496     \n",
      "_________________________________________________________________\n",
      "max_pooling2d_2 (MaxPooling2 (None, 32, 32, 64)        0         \n",
      "_________________________________________________________________\n",
      "flatten (Flatten)            (None, 65536)             0         \n",
      "_________________________________________________________________\n",
      "dense (Dense)                (None, 128)               8388736   \n",
      "_________________________________________________________________\n",
      "dense_1 (Dense)              (None, 2)                 258       \n",
      "=================================================================\n",
      "Total params: 8,412,578\n",
      "Trainable params: 8,412,578\n",
      "Non-trainable params: 0\n",
      "_________________________________________________________________\n"
     ]
    }
   ],
   "source": [
    "#CNN model\n",
    "cnn_model = Sequential([\n",
    "  layers.experimental.preprocessing.Rescaling(1./255, input_shape=(256, 256, 3)),\n",
    "  Conv2D(16, 3, padding='same', activation='relu'),\n",
    "  MaxPooling2D(),\n",
    "  Conv2D(32, 3, padding='same', activation='relu'),\n",
    "  MaxPooling2D(),\n",
    "  Conv2D(64, 3, padding='same', activation='relu'),\n",
    "  MaxPooling2D(),\n",
    "  Flatten(),\n",
    "  Dense(128, activation='relu'),\n",
    "  Dense(2)\n",
    "])\n",
    "\n",
    "cnn_model.summary()"
   ]
  },
  {
   "cell_type": "code",
   "execution_count": 7,
   "id": "e43563ce",
   "metadata": {},
   "outputs": [],
   "source": [
    "cnn_model.compile(optimizer='adam',\n",
    "                  loss=tf.keras.losses.SparseCategoricalCrossentropy(from_logits=True),\n",
    "                  metrics=['accuracy'])"
   ]
  },
  {
   "cell_type": "code",
   "execution_count": 8,
   "id": "7657b952",
   "metadata": {},
   "outputs": [
    {
     "name": "stdout",
     "output_type": "stream",
     "text": [
      "Epoch 1/10\n",
      "206/206 [==============================] - 29s 143ms/step - loss: 0.5248 - accuracy: 0.7536 - val_loss: 0.3363 - val_accuracy: 0.8714\n",
      "Epoch 2/10\n",
      "206/206 [==============================] - 29s 139ms/step - loss: 0.2768 - accuracy: 0.8876 - val_loss: 0.3264 - val_accuracy: 0.8720\n",
      "Epoch 3/10\n",
      "206/206 [==============================] - 29s 143ms/step - loss: 0.2085 - accuracy: 0.9181 - val_loss: 0.2087 - val_accuracy: 0.9177\n",
      "Epoch 4/10\n",
      "206/206 [==============================] - 29s 140ms/step - loss: 0.1463 - accuracy: 0.9413 - val_loss: 0.2646 - val_accuracy: 0.9129\n",
      "Epoch 5/10\n",
      "206/206 [==============================] - 29s 143ms/step - loss: 0.1190 - accuracy: 0.9546 - val_loss: 0.2309 - val_accuracy: 0.9241\n",
      "Epoch 6/10\n",
      "206/206 [==============================] - 30s 144ms/step - loss: 0.0953 - accuracy: 0.9639 - val_loss: 0.2364 - val_accuracy: 0.9254\n",
      "Epoch 7/10\n",
      "206/206 [==============================] - 33s 162ms/step - loss: 0.0765 - accuracy: 0.9715 - val_loss: 0.2427 - val_accuracy: 0.9305\n",
      "Epoch 8/10\n",
      "206/206 [==============================] - 34s 164ms/step - loss: 0.0732 - accuracy: 0.9735 - val_loss: 0.2760 - val_accuracy: 0.9269\n",
      "Epoch 9/10\n",
      "206/206 [==============================] - 31s 152ms/step - loss: 0.0440 - accuracy: 0.9835 - val_loss: 0.2936 - val_accuracy: 0.9351\n",
      "Epoch 10/10\n",
      "206/206 [==============================] - 32s 154ms/step - loss: 0.0322 - accuracy: 0.9890 - val_loss: 0.3022 - val_accuracy: 0.9324\n"
     ]
    }
   ],
   "source": [
    "history = cnn_model.fit(train_generator,\n",
    "                   validation_data=val_generator,\n",
    "                   epochs=10)"
   ]
  },
  {
   "cell_type": "code",
   "execution_count": 9,
   "id": "2ff482aa",
   "metadata": {},
   "outputs": [
    {
     "data": {
      "image/png": "[encoded data removed]",
      "text/plain": [
       "<Figure size 576x576 with 2 Axes>"
      ]
     },
     "metadata": {
      "needs_background": "light"
     },
     "output_type": "display_data"
    }
   ],
   "source": [
    "acc = history.history['accuracy']\n",
    "val_acc = history.history['val_accuracy']\n",
    "\n",
    "loss = history.history['loss']\n",
    "val_loss = history.history['val_loss']\n",
    "\n",
    "epochs_range = range(10)\n",
    "\n",
    "plt.figure(figsize=(8, 8))\n",
    "plt.subplot(1, 2, 1)\n",
    "plt.plot(epochs_range, acc, label='Training Accuracy')\n",
    "plt.plot(epochs_range, val_acc, label='Validation Accuracy')\n",
    "plt.legend(loc='lower right')\n",
    "plt.title('Training and Validation Accuracy')\n",
    "\n",
    "plt.subplot(1, 2, 2)\n",
    "plt.plot(epochs_range, loss, label='Training Loss')\n",
    "plt.plot(epochs_range, val_loss, label='Validation Loss')\n",
    "plt.legend(loc='upper right')\n",
    "plt.title('Training and Validation Loss')\n",
    "plt.show()"
   ]
  },
  {
   "cell_type": "code",
   "execution_count": 10,
   "id": "3dc1d93e",
   "metadata": {},
   "outputs": [
    {
     "name": "stdout",
     "output_type": "stream",
     "text": [
      "Model: \"sequential_1\"\n",
      "_________________________________________________________________\n",
      "Layer (type)                 Output Shape              Param #   \n",
      "=================================================================\n",
      "rescaling_1 (Rescaling)      (None, 256, 256, 3)       0         \n",
      "_________________________________________________________________\n",
      "conv2d_3 (Conv2D)            (None, 256, 256, 16)      448       \n",
      "_________________________________________________________________\n",
      "max_pooling2d_3 (MaxPooling2 (None, 128, 128, 16)      0         \n",
      "_________________________________________________________________\n",
      "conv2d_4 (Conv2D)            (None, 128, 128, 32)      4640      \n",
      "_________________________________________________________________\n",
      "max_pooling2d_4 (MaxPooling2 (None, 64, 64, 32)        0         \n",
      "_________________________________________________________________\n",
      "conv2d_5 (Conv2D)            (None, 64, 64, 64)        18496     \n",
      "_________________________________________________________________\n",
      "max_pooling2d_5 (MaxPooling2 (None, 32, 32, 64)        0         \n",
      "_________________________________________________________________\n",
      "dropout (Dropout)            (None, 32, 32, 64)        0         \n",
      "_________________________________________________________________\n",
      "flatten_1 (Flatten)          (None, 65536)             0         \n",
      "_________________________________________________________________\n",
      "dense_2 (Dense)              (None, 128)               8388736   \n",
      "_________________________________________________________________\n",
      "dense_3 (Dense)              (None, 2)                 258       \n",
      "=================================================================\n",
      "Total params: 8,412,578\n",
      "Trainable params: 8,412,578\n",
      "Non-trainable params: 0\n",
      "_________________________________________________________________\n"
     ]
    }
   ],
   "source": [
    "#CNN model with dropout\n",
    "cnn_model2 = Sequential([\n",
    "  layers.experimental.preprocessing.Rescaling(1./255, input_shape=(256, 256, 3)),\n",
    "  Conv2D(16, 3, padding='same', activation='relu'),\n",
    "  MaxPooling2D(),\n",
    "  Conv2D(32, 3, padding='same', activation='relu'),\n",
    "  MaxPooling2D(),\n",
    "  Conv2D(64, 3, padding='same', activation='relu'),\n",
    "  MaxPooling2D(),\n",
    "  Dropout(0.2),\n",
    "  Flatten(),\n",
    "  Dense(128, activation='relu'),\n",
    "  Dense(2)\n",
    "])\n",
    "\n",
    "cnn_model2.summary()"
   ]
  },
  {
   "cell_type": "code",
   "execution_count": 11,
   "id": "c84bf9ba",
   "metadata": {},
   "outputs": [],
   "source": [
    "cnn_model2.compile(optimizer='adam',\n",
    "                  loss=tf.keras.losses.SparseCategoricalCrossentropy(from_logits=True),\n",
    "                  metrics=['accuracy'])"
   ]
  },
  {
   "cell_type": "code",
   "execution_count": 12,
   "id": "88b3a51e",
   "metadata": {},
   "outputs": [
    {
     "name": "stdout",
     "output_type": "stream",
     "text": [
      "Epoch 1/10\n",
      "206/206 [==============================] - 32s 156ms/step - loss: 0.5348 - accuracy: 0.7537 - val_loss: 0.3518 - val_accuracy: 0.8498\n",
      "Epoch 2/10\n",
      "206/206 [==============================] - 32s 155ms/step - loss: 0.3005 - accuracy: 0.8768 - val_loss: 0.2804 - val_accuracy: 0.8839\n",
      "Epoch 3/10\n",
      "206/206 [==============================] - 32s 156ms/step - loss: 0.2281 - accuracy: 0.9100 - val_loss: 0.2585 - val_accuracy: 0.9016\n",
      "Epoch 4/10\n",
      "206/206 [==============================] - 32s 156ms/step - loss: 0.1826 - accuracy: 0.9277 - val_loss: 0.2362 - val_accuracy: 0.9129\n",
      "Epoch 5/10\n",
      "206/206 [==============================] - 32s 155ms/step - loss: 0.1457 - accuracy: 0.9433 - val_loss: 0.2606 - val_accuracy: 0.9007\n",
      "Epoch 6/10\n",
      "206/206 [==============================] - 32s 156ms/step - loss: 0.1198 - accuracy: 0.9545 - val_loss: 0.2770 - val_accuracy: 0.9062\n",
      "Epoch 7/10\n",
      "206/206 [==============================] - 33s 159ms/step - loss: 0.0984 - accuracy: 0.9621 - val_loss: 0.2663 - val_accuracy: 0.9287\n",
      "Epoch 8/10\n",
      "206/206 [==============================] - 32s 156ms/step - loss: 0.0942 - accuracy: 0.9630 - val_loss: 0.2464 - val_accuracy: 0.9339\n",
      "Epoch 9/10\n",
      "206/206 [==============================] - 32s 156ms/step - loss: 0.0792 - accuracy: 0.9697 - val_loss: 0.2908 - val_accuracy: 0.9247\n",
      "Epoch 10/10\n",
      "206/206 [==============================] - 32s 156ms/step - loss: 0.0638 - accuracy: 0.9763 - val_loss: 0.3047 - val_accuracy: 0.9260\n"
     ]
    }
   ],
   "source": [
    "history2 = cnn_model2.fit(train_generator,\n",
    "                   validation_data=val_generator,\n",
    "                   epochs=10)"
   ]
  },
  {
   "cell_type": "code",
   "execution_count": 13,
   "id": "10c6aba8",
   "metadata": {},
   "outputs": [
    {
     "data": {
      "image/png": "[encoded data removed]",
      "text/plain": [
       "<Figure size 576x576 with 2 Axes>"
      ]
     },
     "metadata": {
      "needs_background": "light"
     },
     "output_type": "display_data"
    }
   ],
   "source": [
    "acc = history2.history['accuracy']\n",
    "val_acc = history2.history['val_accuracy']\n",
    "\n",
    "loss = history2.history['loss']\n",
    "val_loss = history2.history['val_loss']\n",
    "\n",
    "epochs_range = range(10)\n",
    "\n",
    "plt.figure(figsize=(8, 8))\n",
    "plt.subplot(1, 2, 1)\n",
    "plt.plot(epochs_range, acc, label='Training Accuracy')\n",
    "plt.plot(epochs_range, val_acc, label='Validation Accuracy')\n",
    "plt.legend(loc='lower right')\n",
    "plt.title('Training and Validation Accuracy')\n",
    "\n",
    "plt.subplot(1, 2, 2)\n",
    "plt.plot(epochs_range, loss, label='Training Loss')\n",
    "plt.plot(epochs_range, val_loss, label='Validation Loss')\n",
    "plt.legend(loc='upper right')\n",
    "plt.title('Training and Validation Loss')\n",
    "plt.show()"
   ]
  }
 ],
 "metadata": {
  "kernelspec": {
   "display_name": "Python 3",
   "language": "python",
   "name": "python3"
  },
  "language_info": {
   "codemirror_mode": {
    "name": "ipython",
    "version": 3
   },
   "file_extension": ".py",
   "mimetype": "text/x-python",
   "name": "python",
   "nbconvert_exporter": "python",
   "pygments_lexer": "ipython3",
   "version": "3.6.13"
  }
 },
 "nbformat": 4,
 "nbformat_minor": 5
}
