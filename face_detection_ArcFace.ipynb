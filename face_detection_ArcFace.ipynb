{
 "cells": [
  {
   "cell_type": "code",
   "execution_count": 1,
   "metadata": {},
   "outputs": [],
   "source": [
    "import os\n",
    "import pandas as pd\n",
    "from glob import glob\n",
    "import cv2\n",
    "import matplotlib.pylab as plt\n",
    "from PIL import Image\n",
    "import os\n",
    "import tarfile\n",
    "import urllib\n",
    "import urllib.request"
   ]
  },
  {
   "cell_type": "code",
   "execution_count": 2,
   "metadata": {},
   "outputs": [
    {
     "name": "stdout",
     "output_type": "stream",
     "text": [
      "Collecting mxnet\n",
      "  Using cached mxnet-1.7.0.post2-py3-none-macosx_10_13_x86_64.whl (30.2 MB)\n",
      "Requirement already satisfied: numpy<2.0.0,>1.16.0 in /Users/dugongzzz/opt/anaconda3/envs/conda36env/lib/python3.6/site-packages (from mxnet) (1.19.5)\n",
      "Requirement already satisfied: contextvars in /Users/dugongzzz/opt/anaconda3/envs/conda36env/lib/python3.6/site-packages (from mxnet) (2.4)\n",
      "Collecting graphviz<0.9.0,>=0.8.1\n",
      "  Using cached graphviz-0.8.4-py2.py3-none-any.whl (16 kB)\n",
      "Requirement already satisfied: requests<3,>=2.20.0 in /Users/dugongzzz/opt/anaconda3/envs/conda36env/lib/python3.6/site-packages (from mxnet) (2.25.1)\n",
      "Requirement already satisfied: idna<3,>=2.5 in /Users/dugongzzz/opt/anaconda3/envs/conda36env/lib/python3.6/site-packages (from requests<3,>=2.20.0->mxnet) (2.10)\n",
      "Requirement already satisfied: certifi>=2017.4.17 in /Users/dugongzzz/opt/anaconda3/envs/conda36env/lib/python3.6/site-packages (from requests<3,>=2.20.0->mxnet) (2020.12.5)\n",
      "Requirement already satisfied: chardet<5,>=3.0.2 in /Users/dugongzzz/opt/anaconda3/envs/conda36env/lib/python3.6/site-packages (from requests<3,>=2.20.0->mxnet) (4.0.0)\n",
      "Requirement already satisfied: urllib3<1.27,>=1.21.1 in /Users/dugongzzz/opt/anaconda3/envs/conda36env/lib/python3.6/site-packages (from requests<3,>=2.20.0->mxnet) (1.26.4)\n",
      "Requirement already satisfied: immutables>=0.9 in /Users/dugongzzz/opt/anaconda3/envs/conda36env/lib/python3.6/site-packages (from contextvars->mxnet) (0.15)\n",
      "Installing collected packages: graphviz, mxnet\n",
      "Successfully installed graphviz-0.8.4 mxnet-1.7.0.post2\n",
      "Note: you may need to restart the kernel to use updated packages.\n"
     ]
    }
   ],
   "source": [
    "pip install mxnet"
   ]
  },
  {
   "cell_type": "code",
   "execution_count": 3,
   "metadata": {},
   "outputs": [
    {
     "name": "stdout",
     "output_type": "stream",
     "text": [
      "Collecting insightface\n",
      "  Using cached insightface-0.1.5.tar.gz (12 kB)\n",
      "Requirement already satisfied: numpy in /Users/dugongzzz/opt/anaconda3/envs/conda36env/lib/python3.6/site-packages (from insightface) (1.19.5)\n",
      "Requirement already satisfied: tqdm in /Users/dugongzzz/opt/anaconda3/envs/conda36env/lib/python3.6/site-packages (from insightface) (4.58.0)\n",
      "Requirement already satisfied: requests in /Users/dugongzzz/opt/anaconda3/envs/conda36env/lib/python3.6/site-packages (from insightface) (2.25.1)\n",
      "Requirement already satisfied: matplotlib in /Users/dugongzzz/opt/anaconda3/envs/conda36env/lib/python3.6/site-packages (from insightface) (3.3.0)\n",
      "Requirement already satisfied: Pillow in /Users/dugongzzz/opt/anaconda3/envs/conda36env/lib/python3.6/site-packages (from insightface) (8.1.0)\n",
      "Requirement already satisfied: scipy in /Users/dugongzzz/opt/anaconda3/envs/conda36env/lib/python3.6/site-packages (from insightface) (1.5.1)\n",
      "Requirement already satisfied: opencv-python in /Users/dugongzzz/opt/anaconda3/envs/conda36env/lib/python3.6/site-packages (from insightface) (4.5.1.48)\n",
      "Requirement already satisfied: scikit-learn in /Users/dugongzzz/opt/anaconda3/envs/conda36env/lib/python3.6/site-packages (from insightface) (0.23.2)\n",
      "Requirement already satisfied: scikit-image in /Users/dugongzzz/opt/anaconda3/envs/conda36env/lib/python3.6/site-packages (from insightface) (0.17.2)\n",
      "Collecting easydict\n",
      "  Using cached easydict-1.9.tar.gz (6.4 kB)\n",
      "Requirement already satisfied: kiwisolver>=1.0.1 in /Users/dugongzzz/opt/anaconda3/envs/conda36env/lib/python3.6/site-packages (from matplotlib->insightface) (1.2.0)\n",
      "Requirement already satisfied: pyparsing!=2.0.4,!=2.1.2,!=2.1.6,>=2.0.3 in /Users/dugongzzz/opt/anaconda3/envs/conda36env/lib/python3.6/site-packages (from matplotlib->insightface) (2.4.7)\n",
      "Requirement already satisfied: cycler>=0.10 in /Users/dugongzzz/opt/anaconda3/envs/conda36env/lib/python3.6/site-packages (from matplotlib->insightface) (0.10.0)\n",
      "Requirement already satisfied: python-dateutil>=2.1 in /Users/dugongzzz/opt/anaconda3/envs/conda36env/lib/python3.6/site-packages (from matplotlib->insightface) (2.8.1)\n",
      "Requirement already satisfied: six in /Users/dugongzzz/opt/anaconda3/envs/conda36env/lib/python3.6/site-packages (from cycler>=0.10->matplotlib->insightface) (1.15.0)\n",
      "Requirement already satisfied: urllib3<1.27,>=1.21.1 in /Users/dugongzzz/opt/anaconda3/envs/conda36env/lib/python3.6/site-packages (from requests->insightface) (1.26.4)\n",
      "Requirement already satisfied: chardet<5,>=3.0.2 in /Users/dugongzzz/opt/anaconda3/envs/conda36env/lib/python3.6/site-packages (from requests->insightface) (4.0.0)\n",
      "Requirement already satisfied: certifi>=2017.4.17 in /Users/dugongzzz/opt/anaconda3/envs/conda36env/lib/python3.6/site-packages (from requests->insightface) (2020.12.5)\n",
      "Requirement already satisfied: idna<3,>=2.5 in /Users/dugongzzz/opt/anaconda3/envs/conda36env/lib/python3.6/site-packages (from requests->insightface) (2.10)\n",
      "Requirement already satisfied: PyWavelets>=1.1.1 in /Users/dugongzzz/opt/anaconda3/envs/conda36env/lib/python3.6/site-packages (from scikit-image->insightface) (1.1.1)\n",
      "Requirement already satisfied: tifffile>=2019.7.26 in /Users/dugongzzz/opt/anaconda3/envs/conda36env/lib/python3.6/site-packages (from scikit-image->insightface) (2020.9.3)\n",
      "Requirement already satisfied: networkx>=2.0 in /Users/dugongzzz/opt/anaconda3/envs/conda36env/lib/python3.6/site-packages (from scikit-image->insightface) (2.5)\n",
      "Requirement already satisfied: imageio>=2.3.0 in /Users/dugongzzz/opt/anaconda3/envs/conda36env/lib/python3.6/site-packages (from scikit-image->insightface) (2.9.0)\n",
      "Requirement already satisfied: decorator>=4.3.0 in /Users/dugongzzz/opt/anaconda3/envs/conda36env/lib/python3.6/site-packages (from networkx>=2.0->scikit-image->insightface) (4.4.2)\n",
      "Requirement already satisfied: threadpoolctl>=2.0.0 in /Users/dugongzzz/opt/anaconda3/envs/conda36env/lib/python3.6/site-packages (from scikit-learn->insightface) (2.1.0)\n",
      "Requirement already satisfied: joblib>=0.11 in /Users/dugongzzz/opt/anaconda3/envs/conda36env/lib/python3.6/site-packages (from scikit-learn->insightface) (0.17.0)\n",
      "Building wheels for collected packages: insightface, easydict\n",
      "  Building wheel for insightface (setup.py) ... \u001b[?25ldone\n",
      "\u001b[?25h  Created wheel for insightface: filename=insightface-0.1.5-py3-none-any.whl size=16762 sha256=f87c6055aceee46143c83dca4dac09edbe455ea97b0288cbbbe299ae4a690350\n",
      "  Stored in directory: /Users/dugongzzz/Library/Caches/pip/wheels/a9/51/21/b8eed0421ebb86a3ecccc6b142cd677a0d9222ed8aebe090b2\n",
      "  Building wheel for easydict (setup.py) ... \u001b[?25ldone\n",
      "\u001b[?25h  Created wheel for easydict: filename=easydict-1.9-py3-none-any.whl size=6350 sha256=06a1640474af359ee710e4982b06d4415741dc912c2d273d9fb9df458ba23620\n",
      "  Stored in directory: /Users/dugongzzz/Library/Caches/pip/wheels/5d/79/e4/4e55effe206295359b37e0f9db3e68a1197ba396682807dadb\n",
      "Successfully built insightface easydict\n",
      "Installing collected packages: easydict, insightface\n",
      "Successfully installed easydict-1.9 insightface-0.1.5\n",
      "Note: you may need to restart the kernel to use updated packages.\n"
     ]
    }
   ],
   "source": [
    "pip install --upgrade insightface"
   ]
  },
  {
   "cell_type": "code",
   "execution_count": 2,
   "metadata": {},
   "outputs": [],
   "source": [
    "import insightface\n",
    "import urllib\n",
    "import urllib.request\n",
    "import cv2\n",
    "import numpy as np"
   ]
  },
  {
   "cell_type": "code",
   "execution_count": 3,
   "metadata": {},
   "outputs": [],
   "source": [
    "model = insightface.model_zoo.get_model('retinaface_r50_v1')"
   ]
  },
  {
   "cell_type": "code",
   "execution_count": 4,
   "metadata": {},
   "outputs": [
    {
     "name": "stdout",
     "output_type": "stream",
     "text": [
      "[32, 16, 8] {'32': {'SCALES': (32, 16), 'BASE_SIZE': 16, 'RATIOS': (1.0,), 'ALLOWED_BORDER': 9999}, '16': {'SCALES': (8, 4), 'BASE_SIZE': 16, 'RATIOS': (1.0,), 'ALLOWED_BORDER': 9999}, '8': {'SCALES': (2, 1), 'BASE_SIZE': 16, 'RATIOS': (1.0,), 'ALLOWED_BORDER': 9999}}\n",
      "use_landmarks True\n"
     ]
    }
   ],
   "source": [
    "model.prepare(ctx_id = -1, nms=0.4)"
   ]
  },
  {
   "cell_type": "code",
   "execution_count": 5,
   "metadata": {},
   "outputs": [
    {
     "name": "stdout",
     "output_type": "stream",
     "text": [
      "/Users/dugongzzz/Documents/GitHub/cmpt733-deepfake-detection\n"
     ]
    }
   ],
   "source": [
    "# change directory accordingly\n",
    "CURR_DIR = os.getcwd()\n",
    "print(CURR_DIR)\n",
    "INPUT_DIR = CURR_DIR + \"/deepfake-detection-challenge/train_sample_videos\""
   ]
  },
  {
   "cell_type": "code",
   "execution_count": 6,
   "metadata": {},
   "outputs": [
    {
     "name": "stdout",
     "output_type": "stream",
     "text": [
      "Number of videos: 18\n"
     ]
    }
   ],
   "source": [
    "videopaths = sorted(glob(os.path.join(INPUT_DIR, \"*.mp4\")))\n",
    "print(\"Number of videos:\", len(videopaths))"
   ]
  },
  {
   "cell_type": "code",
   "execution_count": 7,
   "metadata": {},
   "outputs": [],
   "source": [
    "meta = INPUT_DIR + '/metadata.json'\n",
    "label_df = pd.read_json(meta)\n",
    "label_df = label_df.iloc[0]\n",
    "labeling_dict = label_df.to_dict()"
   ]
  },
  {
   "cell_type": "code",
   "execution_count": null,
   "metadata": {},
   "outputs": [],
   "source": [
    "for i in range(len(videopaths)):\n",
    "    num = str(i)\n",
    "    name = os.path.basename(videopaths[i])\n",
    "    \n",
    "    v_cap = cv2.VideoCapture(videopaths[i])\n",
    "    _, frame = v_cap.read()\n",
    "    frame = cv2.cvtColor(frame, cv2.COLOR_BGR2RGB)\n",
    "    cv2.normalize(frame, frame, 0, 255, cv2.NORM_MINMAX)\n",
    "    new_frame = Image.fromarray(frame)\n",
    "    \n",
    "    bbox, landmark = model.detect(frame, threshold=0.5, scale=1.0)\n",
    "    for each in bbox:\n",
    "        boundary = each.tolist()\n",
    "        x, y, w, h  = boundary[0:4]\n",
    "        detected_face = frame[int(y):int(h), int(x):int(w)]\n",
    "        plt.imshow(detected_face)"
   ]
  },
  {
   "cell_type": "code",
   "execution_count": 23,
   "metadata": {},
   "outputs": [],
   "source": [
    "model_1 = insightface.model_zoo.get_model('arcface_r100_v1')\n",
    "model_1.prepare(ctx_id = -1)"
   ]
  },
  {
   "cell_type": "code",
   "execution_count": 25,
   "metadata": {},
   "outputs": [
    {
     "name": "stdout",
     "output_type": "stream",
     "text": [
      "FAKE\n"
     ]
    },
    {
     "ename": "AssertionError",
     "evalue": "",
     "output_type": "error",
     "traceback": [
      "\u001b[0;31m---------------------------------------------------------------------------\u001b[0m",
      "\u001b[0;31mAssertionError\u001b[0m                            Traceback (most recent call last)",
      "\u001b[0;32m<ipython-input-25-6cfeb1405197>\u001b[0m in \u001b[0;36m<module>\u001b[0;34m\u001b[0m\n\u001b[1;32m      9\u001b[0m     \u001b[0;31m#new_frame = Image.fromarray(frame)\u001b[0m\u001b[0;34m\u001b[0m\u001b[0;34m\u001b[0m\u001b[0;34m\u001b[0m\u001b[0m\n\u001b[1;32m     10\u001b[0m \u001b[0;34m\u001b[0m\u001b[0m\n\u001b[0;32m---> 11\u001b[0;31m     \u001b[0memb\u001b[0m \u001b[0;34m=\u001b[0m \u001b[0mmodel_1\u001b[0m\u001b[0;34m.\u001b[0m\u001b[0mget_embedding\u001b[0m\u001b[0;34m(\u001b[0m\u001b[0mframe\u001b[0m\u001b[0;34m)\u001b[0m\u001b[0;34m\u001b[0m\u001b[0;34m\u001b[0m\u001b[0m\n\u001b[0m",
      "\u001b[0;32m~/opt/anaconda3/lib/python3.7/site-packages/insightface/model_zoo/face_recognition.py\u001b[0m in \u001b[0;36mget_embedding\u001b[0;34m(self, img)\u001b[0m\n\u001b[1;32m     46\u001b[0m     \u001b[0;32mdef\u001b[0m \u001b[0mget_embedding\u001b[0m\u001b[0;34m(\u001b[0m\u001b[0mself\u001b[0m\u001b[0;34m,\u001b[0m \u001b[0mimg\u001b[0m\u001b[0;34m)\u001b[0m\u001b[0;34m:\u001b[0m\u001b[0;34m\u001b[0m\u001b[0;34m\u001b[0m\u001b[0m\n\u001b[1;32m     47\u001b[0m         \u001b[0;32massert\u001b[0m \u001b[0mself\u001b[0m\u001b[0;34m.\u001b[0m\u001b[0mparam_file\u001b[0m \u001b[0;32mand\u001b[0m \u001b[0mself\u001b[0m\u001b[0;34m.\u001b[0m\u001b[0mmodel\u001b[0m\u001b[0;34m\u001b[0m\u001b[0;34m\u001b[0m\u001b[0m\n\u001b[0;32m---> 48\u001b[0;31m         \u001b[0;32massert\u001b[0m \u001b[0mimg\u001b[0m\u001b[0;34m.\u001b[0m\u001b[0mshape\u001b[0m\u001b[0;34m[\u001b[0m\u001b[0;36m2\u001b[0m\u001b[0;34m]\u001b[0m\u001b[0;34m==\u001b[0m\u001b[0;36m3\u001b[0m \u001b[0;32mand\u001b[0m \u001b[0mimg\u001b[0m\u001b[0;34m.\u001b[0m\u001b[0mshape\u001b[0m\u001b[0;34m[\u001b[0m\u001b[0;36m0\u001b[0m\u001b[0;34m:\u001b[0m\u001b[0;36m2\u001b[0m\u001b[0;34m]\u001b[0m\u001b[0;34m==\u001b[0m\u001b[0mself\u001b[0m\u001b[0;34m.\u001b[0m\u001b[0mimage_size\u001b[0m\u001b[0;34m\u001b[0m\u001b[0;34m\u001b[0m\u001b[0m\n\u001b[0m\u001b[1;32m     49\u001b[0m         \u001b[0mdata\u001b[0m \u001b[0;34m=\u001b[0m \u001b[0mcv2\u001b[0m\u001b[0;34m.\u001b[0m\u001b[0mcvtColor\u001b[0m\u001b[0;34m(\u001b[0m\u001b[0mimg\u001b[0m\u001b[0;34m,\u001b[0m \u001b[0mcv2\u001b[0m\u001b[0;34m.\u001b[0m\u001b[0mCOLOR_BGR2RGB\u001b[0m\u001b[0;34m)\u001b[0m\u001b[0;34m\u001b[0m\u001b[0;34m\u001b[0m\u001b[0m\n\u001b[1;32m     50\u001b[0m         \u001b[0mdata\u001b[0m \u001b[0;34m=\u001b[0m \u001b[0mnp\u001b[0m\u001b[0;34m.\u001b[0m\u001b[0mtranspose\u001b[0m\u001b[0;34m(\u001b[0m\u001b[0mdata\u001b[0m\u001b[0;34m,\u001b[0m \u001b[0;34m(\u001b[0m\u001b[0;36m2\u001b[0m\u001b[0;34m,\u001b[0m\u001b[0;36m0\u001b[0m\u001b[0;34m,\u001b[0m\u001b[0;36m1\u001b[0m\u001b[0;34m)\u001b[0m\u001b[0;34m)\u001b[0m\u001b[0;34m\u001b[0m\u001b[0;34m\u001b[0m\u001b[0m\n",
      "\u001b[0;31mAssertionError\u001b[0m: "
     ]
    }
   ],
   "source": [
    "for i in range(len(videopaths)):\n",
    "    num = str(i)\n",
    "    name = os.path.basename(videopaths[i])\n",
    "    print(labeling_dict[name])\n",
    "    \n",
    "    v_cap = cv2.VideoCapture(videopaths[i])\n",
    "    _, frame = v_cap.read()\n",
    "    frame = cv2.cvtColor(frame, cv2.COLOR_BGR2RGB)\n",
    "    #new_frame = Image.fromarray(frame)\n",
    "    \n",
    "    emb = model_1.get_embedding(frame)"
   ]
  }
 ],
 "metadata": {
  "kernelspec": {
   "display_name": "Python 3",
   "language": "python",
   "name": "python3"
  },
  "language_info": {
   "codemirror_mode": {
    "name": "ipython",
    "version": 3
   },
   "file_extension": ".py",
   "mimetype": "text/x-python",
   "name": "python",
   "nbconvert_exporter": "python",
   "pygments_lexer": "ipython3",
   "version": "3.6.13"
  }
 },
 "nbformat": 4,
 "nbformat_minor": 4
}
