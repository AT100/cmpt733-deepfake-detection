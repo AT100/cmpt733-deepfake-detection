{
 "cells": [
  {
   "cell_type": "code",
   "execution_count": 1,
   "metadata": {},
   "outputs": [
    {
     "name": "stdout",
     "output_type": "stream",
     "text": [
      "Collecting opencv-python\n",
      "  Downloading opencv_python-4.5.1.48-cp37-cp37m-macosx_10_13_x86_64.whl (40.3 MB)\n",
      "\u001b[K     |████████████████████████████████| 40.3 MB 3.5 MB/s eta 0:00:01\n",
      "\u001b[?25hRequirement already satisfied: numpy>=1.14.5 in /Users/dugongzzz/opt/anaconda3/lib/python3.7/site-packages (from opencv-python) (1.19.2)\n",
      "Installing collected packages: opencv-python\n",
      "Successfully installed opencv-python-4.5.1.48\n",
      "Note: you may need to restart the kernel to use updated packages.\n"
     ]
    }
   ],
   "source": [
    "pip install opencv-python"
   ]
  },
  {
   "cell_type": "code",
   "execution_count": 2,
   "metadata": {},
   "outputs": [
    {
     "name": "stdout",
     "output_type": "stream",
     "text": [
      "Collecting package metadata (current_repodata.json): done\n",
      "Solving environment: failed with initial frozen solve. Retrying with flexible solve.\n",
      "Collecting package metadata (repodata.json): done\n",
      "Solving environment: failed with initial frozen solve. Retrying with flexible solve.\n",
      "\n",
      "PackagesNotFoundError: The following packages are not available from current channels:\n",
      "\n",
      "  - cudatoolkit=10.2\n",
      "\n",
      "Current channels:\n",
      "\n",
      "  - https://conda.anaconda.org/pytorch/osx-64\n",
      "  - https://conda.anaconda.org/pytorch/noarch\n",
      "  - https://repo.anaconda.com/pkgs/main/osx-64\n",
      "  - https://repo.anaconda.com/pkgs/main/noarch\n",
      "  - https://repo.anaconda.com/pkgs/r/osx-64\n",
      "  - https://repo.anaconda.com/pkgs/r/noarch\n",
      "\n",
      "To search for alternate channels that may provide the conda package you're\n",
      "looking for, navigate to\n",
      "\n",
      "    https://anaconda.org\n",
      "\n",
      "and use the search bar at the top of the page.\n",
      "\n",
      "\n",
      "\n",
      "Note: you may need to restart the kernel to use updated packages.\n"
     ]
    }
   ],
   "source": [
    "#conda install pytorch torchvision cudatoolkit=10.2 -c pytorch"
   ]
  },
  {
   "cell_type": "code",
   "execution_count": 5,
   "metadata": {},
   "outputs": [
    {
     "name": "stdout",
     "output_type": "stream",
     "text": [
      "Collecting package metadata (current_repodata.json): done\n",
      "Solving environment: done\n",
      "\n",
      "## Package Plan ##\n",
      "\n",
      "  environment location: /Users/dugongzzz/opt/anaconda3\n",
      "\n",
      "  added / updated specs:\n",
      "    - torchvision\n",
      "\n",
      "\n",
      "The following packages will be downloaded:\n",
      "\n",
      "    package                    |            build\n",
      "    ---------------------------|-----------------\n",
      "    ffmpeg-4.3                 |       h0a44026_0        10.1 MB  pytorch\n",
      "    gnutls-3.6.5               |    h91ad68e_1002         1.6 MB\n",
      "    lame-3.100                 |       h1de35cc_0         316 KB\n",
      "    libuv-1.40.0               |       haf1e3a3_0         334 KB\n",
      "    nettle-3.4.1               |       h3018a27_0         604 KB\n",
      "    ninja-1.10.2               |   py37hf7b0b51_0         101 KB\n",
      "    openh264-2.1.0             |       hd9629dc_0         635 KB\n",
      "    pytorch-1.8.0              |          py3.7_0        71.8 MB  pytorch\n",
      "    torchvision-0.9.0          |         py37_cpu         6.8 MB  pytorch\n",
      "    ------------------------------------------------------------\n",
      "                                           Total:        92.2 MB\n",
      "\n",
      "The following NEW packages will be INSTALLED:\n",
      "\n",
      "  ffmpeg             pytorch/osx-64::ffmpeg-4.3-h0a44026_0\n",
      "  gnutls             pkgs/main/osx-64::gnutls-3.6.5-h91ad68e_1002\n",
      "  lame               pkgs/main/osx-64::lame-3.100-h1de35cc_0\n",
      "  libuv              pkgs/main/osx-64::libuv-1.40.0-haf1e3a3_0\n",
      "  nettle             pkgs/main/osx-64::nettle-3.4.1-h3018a27_0\n",
      "  ninja              pkgs/main/osx-64::ninja-1.10.2-py37hf7b0b51_0\n",
      "  openh264           pkgs/main/osx-64::openh264-2.1.0-hd9629dc_0\n",
      "  pytorch            pytorch/osx-64::pytorch-1.8.0-py3.7_0\n",
      "  torchvision        pytorch/osx-64::torchvision-0.9.0-py37_cpu\n",
      "\n",
      "The following packages will be UPDATED:\n",
      "\n",
      "  ca-certificates    conda-forge::ca-certificates-2020.12.~ --> pkgs/main::ca-certificates-2021.1.19-hecd8cb5_0\n",
      "  openssl            conda-forge::openssl-1.1.1i-h35c211d_0 --> pkgs/main::openssl-1.1.1j-h9ed2024_0\n",
      "\n",
      "\n",
      "\n",
      "Downloading and Extracting Packages\n",
      "pytorch-1.8.0        | 71.8 MB   | ##################################### | 100% \n",
      "openh264-2.1.0       | 635 KB    | ##################################### | 100% \n",
      "gnutls-3.6.5         | 1.6 MB    | ##################################### | 100% \n",
      "libuv-1.40.0         | 334 KB    | ##################################### | 100% \n",
      "ffmpeg-4.3           | 10.1 MB   | ##################################### | 100% \n",
      "torchvision-0.9.0    | 6.8 MB    | ##################################### | 100% \n",
      "ninja-1.10.2         | 101 KB    | ##################################### | 100% \n",
      "nettle-3.4.1         | 604 KB    | ##################################### | 100% \n",
      "lame-3.100           | 316 KB    | ##################################### | 100% \n",
      "Preparing transaction: done\n",
      "Verifying transaction: done\n",
      "Executing transaction: done\n",
      "\n",
      "Note: you may need to restart the kernel to use updated packages.\n"
     ]
    }
   ],
   "source": [
    "conda install -c pytorch torchvision"
   ]
  },
  {
   "cell_type": "code",
   "execution_count": 3,
   "metadata": {},
   "outputs": [
    {
     "name": "stdout",
     "output_type": "stream",
     "text": [
      "Collecting keras==2.1.5\n",
      "  Downloading Keras-2.1.5-py2.py3-none-any.whl (334 kB)\n",
      "\u001b[K     |████████████████████████████████| 334 kB 2.0 MB/s eta 0:00:01\n",
      "\u001b[?25hRequirement already satisfied: numpy>=1.9.1 in /Users/dugongzzz/opt/anaconda3/lib/python3.7/site-packages (from keras==2.1.5) (1.19.2)\n",
      "Requirement already satisfied: pyyaml in /Users/dugongzzz/opt/anaconda3/lib/python3.7/site-packages (from keras==2.1.5) (5.3.1)\n",
      "Requirement already satisfied: six>=1.9.0 in /Users/dugongzzz/opt/anaconda3/lib/python3.7/site-packages (from keras==2.1.5) (1.15.0)\n",
      "Requirement already satisfied: scipy>=0.14 in /Users/dugongzzz/opt/anaconda3/lib/python3.7/site-packages (from keras==2.1.5) (1.5.2)\n",
      "Installing collected packages: keras\n",
      "Successfully installed keras-2.1.5\n",
      "Note: you may need to restart the kernel to use updated packages.\n"
     ]
    }
   ],
   "source": [
    "pip install keras==2.1.5"
   ]
  },
  {
   "cell_type": "code",
   "execution_count": 35,
   "metadata": {},
   "outputs": [
    {
     "name": "stdout",
     "output_type": "stream",
     "text": [
      "Collecting facenet-pytorch\n",
      "  Downloading facenet_pytorch-2.5.1-py3-none-any.whl (1.9 MB)\n",
      "\u001b[K     |████████████████████████████████| 1.9 MB 3.2 MB/s eta 0:00:01\n",
      "\u001b[?25hRequirement already satisfied: numpy in /Users/dugongzzz/opt/anaconda3/lib/python3.7/site-packages (from facenet-pytorch) (1.19.2)\n",
      "Requirement already satisfied: pillow in /Users/dugongzzz/opt/anaconda3/lib/python3.7/site-packages (from facenet-pytorch) (7.2.0)\n",
      "Requirement already satisfied: requests in /Users/dugongzzz/opt/anaconda3/lib/python3.7/site-packages (from facenet-pytorch) (2.25.0)\n",
      "Requirement already satisfied: torchvision in /Users/dugongzzz/opt/anaconda3/lib/python3.7/site-packages (from facenet-pytorch) (0.9.0)\n",
      "Requirement already satisfied: idna<3,>=2.5 in /Users/dugongzzz/opt/anaconda3/lib/python3.7/site-packages (from requests->facenet-pytorch) (2.10)\n",
      "Requirement already satisfied: certifi>=2017.4.17 in /Users/dugongzzz/opt/anaconda3/lib/python3.7/site-packages (from requests->facenet-pytorch) (2020.12.5)\n",
      "Requirement already satisfied: urllib3<1.27,>=1.21.1 in /Users/dugongzzz/opt/anaconda3/lib/python3.7/site-packages (from requests->facenet-pytorch) (1.25.11)\n",
      "Requirement already satisfied: chardet<4,>=3.0.2 in /Users/dugongzzz/opt/anaconda3/lib/python3.7/site-packages (from requests->facenet-pytorch) (3.0.4)\n",
      "Requirement already satisfied: torch in /Users/dugongzzz/opt/anaconda3/lib/python3.7/site-packages (from torchvision->facenet-pytorch) (1.8.0)\n",
      "Requirement already satisfied: typing_extensions in /Users/dugongzzz/opt/anaconda3/lib/python3.7/site-packages (from torch->torchvision->facenet-pytorch) (3.7.4.3)\n",
      "Installing collected packages: facenet-pytorch\n",
      "Successfully installed facenet-pytorch-2.5.1\n",
      "Note: you may need to restart the kernel to use updated packages.\n"
     ]
    }
   ],
   "source": [
    "pip install facenet-pytorch"
   ]
  },
  {
   "cell_type": "code",
   "execution_count": 9,
   "metadata": {},
   "outputs": [
    {
     "name": "stdout",
     "output_type": "stream",
     "text": [
      "Collecting package metadata (current_repodata.json): done\n",
      "Solving environment: failed with initial frozen solve. Retrying with flexible solve.\n",
      "Solving environment: failed with repodata from current_repodata.json, will retry with next repodata source.\n",
      "Collecting package metadata (repodata.json): done\n",
      "Solving environment: done\n",
      "\n",
      "## Package Plan ##\n",
      "\n",
      "  environment location: /Users/dugongzzz/opt/anaconda3\n",
      "\n",
      "  added / updated specs:\n",
      "    - tensorflow\n",
      "\n",
      "\n",
      "The following packages will be downloaded:\n",
      "\n",
      "    package                    |            build\n",
      "    ---------------------------|-----------------\n",
      "    _tflow_select-2.3.0        |              mkl           3 KB\n",
      "    coverage-5.5               |   py37h9ed2024_2         256 KB\n",
      "    grpcio-1.36.1              |   py37h97de6d8_1         1.6 MB\n",
      "    markdown-3.3.4             |   py37hecd8cb5_0         127 KB\n",
      "    tensorflow-2.0.0           |mkl_py37hda344b4_0           4 KB\n",
      "    termcolor-1.1.0            |   py37hecd8cb5_1           9 KB\n",
      "    ------------------------------------------------------------\n",
      "                                           Total:         2.0 MB\n",
      "\n",
      "The following NEW packages will be INSTALLED:\n",
      "\n",
      "  _tflow_select      pkgs/main/osx-64::_tflow_select-2.3.0-mkl\n",
      "  absl-py            pkgs/main/noarch::absl-py-0.11.0-pyhd3eb1b0_1\n",
      "  astor              pkgs/main/osx-64::astor-0.8.1-py37hecd8cb5_0\n",
      "  c-ares             pkgs/main/osx-64::c-ares-1.17.1-h9ed2024_0\n",
      "  coverage           pkgs/main/osx-64::coverage-5.5-py37h9ed2024_2\n",
      "  gast               pkgs/main/osx-64::gast-0.2.2-py37_0\n",
      "  google-pasta       pkgs/main/noarch::google-pasta-0.2.0-py_0\n",
      "  grpcio             pkgs/main/osx-64::grpcio-1.36.1-py37h97de6d8_1\n",
      "  keras-applications pkgs/main/noarch::keras-applications-1.0.8-py_1\n",
      "  keras-preprocessi~ pkgs/main/noarch::keras-preprocessing-1.1.2-pyhd3eb1b0_0\n",
      "  libprotobuf        pkgs/main/osx-64::libprotobuf-3.14.0-h2842e9f_0\n",
      "  markdown           pkgs/main/osx-64::markdown-3.3.4-py37hecd8cb5_0\n",
      "  opt_einsum         pkgs/main/noarch::opt_einsum-3.1.0-py_0\n",
      "  protobuf           pkgs/main/osx-64::protobuf-3.14.0-py37h23ab428_1\n",
      "  tensorboard        pkgs/main/noarch::tensorboard-2.0.0-pyhb38c66f_1\n",
      "  tensorflow         pkgs/main/osx-64::tensorflow-2.0.0-mkl_py37hda344b4_0\n",
      "  tensorflow-base    pkgs/main/osx-64::tensorflow-base-2.0.0-mkl_py37h66b1bf0_0\n",
      "  tensorflow-estima~ pkgs/main/noarch::tensorflow-estimator-2.0.0-pyh2649769_0\n",
      "  termcolor          pkgs/main/osx-64::termcolor-1.1.0-py37hecd8cb5_1\n",
      "\n",
      "The following packages will be SUPERSEDED by a higher-priority channel:\n",
      "\n",
      "  certifi            conda-forge::certifi-2020.12.5-py37hf~ --> pkgs/main::certifi-2020.12.5-py37hecd8cb5_0\n",
      "  conda              conda-forge::conda-4.9.2-py37hf985489~ --> pkgs/main::conda-4.9.2-py37hecd8cb5_0\n",
      "\n",
      "\n",
      "\n",
      "Downloading and Extracting Packages\n",
      "markdown-3.3.4       | 127 KB    | ##################################### | 100% \n",
      "_tflow_select-2.3.0  | 3 KB      | ##################################### | 100% \n",
      "termcolor-1.1.0      | 9 KB      | ##################################### | 100% \n",
      "coverage-5.5         | 256 KB    | ##################################### | 100% \n",
      "grpcio-1.36.1        | 1.6 MB    | ##################################### | 100% \n",
      "tensorflow-2.0.0     | 4 KB      | ##################################### | 100% \n",
      "Preparing transaction: done\n",
      "Verifying transaction: done\n",
      "Executing transaction: done\n",
      "\n",
      "Note: you may need to restart the kernel to use updated packages.\n"
     ]
    }
   ],
   "source": [
    "conda install tensorflow"
   ]
  },
  {
   "cell_type": "code",
   "execution_count": 82,
   "metadata": {},
   "outputs": [],
   "source": [
    "import os\n",
    "from glob import glob\n",
    "import cv2\n",
    "import matplotlib.pylab as plt\n",
    "from facenet_pytorch import MTCNN\n",
    "from PIL import Image\n",
    "import os\n",
    "import tarfile\n",
    "import urllib\n",
    "import urllib.request\n",
    "import torch\n",
    "from torch.utils.data import DataLoader"
   ]
  },
  {
   "cell_type": "code",
   "execution_count": 83,
   "metadata": {},
   "outputs": [
    {
     "name": "stdout",
     "output_type": "stream",
     "text": [
      "Running on device: cpu\n"
     ]
    }
   ],
   "source": [
    "# Determine if an nvidia GPU is available\n",
    "device = torch.device('cuda:0' if torch.cuda.is_available() else 'cpu')\n",
    "print('Running on device: {}'.format(device))"
   ]
  },
  {
   "cell_type": "code",
   "execution_count": 84,
   "metadata": {},
   "outputs": [
    {
     "name": "stdout",
     "output_type": "stream",
     "text": [
      "Download done!\n"
     ]
    }
   ],
   "source": [
    "# download zipped file from github. This should be pointed to LFS later.\n",
    "url = \"https://github.com/AT100/cmpt733-deepfake-detection/blob/main/dataset/deepfake-detection-challenge.zip?raw=true\"\n",
    "filename, headers = urllib.request.urlretrieve(url, filename=\"deepfake-detection-challenge.zip\")\n",
    "print(\"Download done!\")"
   ]
  },
  {
   "cell_type": "code",
   "execution_count": 85,
   "metadata": {},
   "outputs": [],
   "source": [
    "from zipfile import ZipFile\n",
    "\n",
    "with ZipFile('deepfake-detection-challenge.zip', 'r') as zipObj:\n",
    "   # Extract all the contents of zip file in current directory\n",
    "   zipObj.extractall()"
   ]
  },
  {
   "cell_type": "code",
   "execution_count": 86,
   "metadata": {},
   "outputs": [
    {
     "name": "stdout",
     "output_type": "stream",
     "text": [
      "/Users/dugongzzz/Documents/GitHub/cmpt733-deepfake-detection\n"
     ]
    }
   ],
   "source": [
    "# change directory accordingly\n",
    "CURR_DIR = os.getcwd()\n",
    "print(CURR_DIR)\n",
    "INPUT_DIR = CURR_DIR + \"/deepfake-detection-challenge/train_sample_videos\""
   ]
  },
  {
   "cell_type": "code",
   "execution_count": 87,
   "metadata": {},
   "outputs": [
    {
     "name": "stdout",
     "output_type": "stream",
     "text": [
      "Number of videos: 18\n"
     ]
    }
   ],
   "source": [
    "videopaths = sorted(glob(os.path.join(INPUT_DIR, \"*.mp4\")))\n",
    "print(\"Number of videos:\", len(videopaths))"
   ]
  },
  {
   "cell_type": "code",
   "execution_count": 178,
   "metadata": {},
   "outputs": [
    {
     "data": {
      "image/png": "[encoded data removed]",
      "text/plain": [
       "<Figure size 864x576 with 1 Axes>"
      ]
     },
     "metadata": {
      "needs_background": "light"
     },
     "output_type": "display_data"
    }
   ],
   "source": [
    "i = 11\n",
    "num = str(i)\n",
    "\n",
    "v_cap = cv2.VideoCapture(videopaths[i])\n",
    "_, frame = v_cap.read()\n",
    "frame = cv2.cvtColor(frame, cv2.COLOR_BGR2RGB)\n",
    "new_frame = Image.fromarray(frame)\n",
    "\n",
    "plt.figure(figsize=(12, 8))\n",
    "plt.imshow(new_frame)\n",
    "plt.axis('off')\n",
    "\n",
    "mtcnn = MTCNN(select_largest=False, keep_all=True, post_process=False)#select_largest=False, device='cuda')\n",
    "test = mtcnn(new_frame)\n",
    "\n",
    "# detect faces in the image\n",
    "faces = mtcnn.detect(new_frame)\n",
    "\n",
    "if test is None:\n",
    "    print(\"Unable to identify face\")\n",
    "else:   \n",
    "    for each in faces[0]:\n",
    "        each1 = each.tolist()\n",
    "        x, y, w, h  = each1\n",
    "        detected_face = frame[int(y):int(h), int(x):int(w)]\n",
    "        plt.imshow(detected_face)\n",
    "        savepath = CURR_DIR + '/dataset/test_images/test' + num + '.jpg'\n",
    "        plt.imsave(savepath, detected_face)"
   ]
  },
  {
   "cell_type": "code",
   "execution_count": 147,
   "metadata": {},
   "outputs": [
    {
     "data": {
      "text/plain": [
       "(-0.5, 159.5, 159.5, -0.5)"
      ]
     },
     "execution_count": 147,
     "metadata": {},
     "output_type": "execute_result"
    },
    {
     "data": {
      "image/png": "[encoded data removed]",
      "text/plain": [
       "<Figure size 432x288 with 1 Axes>"
      ]
     },
     "metadata": {
      "needs_background": "light"
     },
     "output_type": "display_data"
    }
   ],
   "source": [
    "# there can be a few faces identified, so this will need to be adjusted\n",
    "# plt.imshow(face.squeeze().permute(1,2,0).int().numpy())\n",
    "# plt.axis('off')"
   ]
  },
  {
   "cell_type": "code",
   "execution_count": null,
   "metadata": {},
   "outputs": [],
   "source": []
  }
 ],
 "metadata": {
  "kernelspec": {
   "display_name": "Python 3",
   "language": "python",
   "name": "python3"
  },
  "language_info": {
   "codemirror_mode": {
    "name": "ipython",
    "version": 3
   },
   "file_extension": ".py",
   "mimetype": "text/x-python",
   "name": "python",
   "nbconvert_exporter": "python",
   "pygments_lexer": "ipython3",
   "version": "3.7.9"
  }
 },
 "nbformat": 4,
 "nbformat_minor": 4
}
