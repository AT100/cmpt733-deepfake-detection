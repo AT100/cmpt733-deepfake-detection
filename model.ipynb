{
 "cells": [
  {
   "cell_type": "code",
   "execution_count": null,
   "id": "93c0b616",
   "metadata": {},
   "outputs": [],
   "source": [
    "from tensorflow.keras.models import Model as KerasModel\n",
    "from tensorflow.keras.models import Model\n",
    "from tensorflow.keras.layers import Input, Dense, Flatten, Conv2D, MaxPooling2D, BatchNormalization, Dropout, Reshape, Embedding, LSTM\n",
    "from tensorflow.keras import layers\n",
    "from tensorflow.keras.optimizers import Adam, SGD\n",
    "from tensorflow.keras.models import Sequential\n",
    "from tensorflow import keras\n",
    "from tensorflow.keras.preprocessing.image import ImageDataGenerator\n",
    "import matplotlib.pyplot as plt\n",
    "from tensorflow.keras.utils import plot_model\n",
    "import tensorflow as tf"
   ]
  },
  {
   "cell_type": "code",
   "execution_count": null,
   "id": "c0e94fe4",
   "metadata": {},
   "outputs": [],
   "source": [
    "import sys\n",
    "\n",
    "import tensorflow.keras\n",
    "import pandas as pd\n",
    "import sklearn as sk\n",
    "import tensorflow as tf\n",
    "\n",
    "print(f\"Tensor Flow Version: {tf.__version__}\")\n",
    "print(f\"Keras Version: {tensorflow.keras.__version__}\")\n",
    "print()\n",
    "print(f\"Python {sys.version}\")\n",
    "print(f\"Pandas {pd.__version__}\")\n",
    "print(f\"Scikit-Learn {sk.__version__}\")\n",
    "gpu = len(tf.config.list_physical_devices('GPU'))>0\n",
    "print(\"GPU is\", \"available\" if gpu else \"NOT AVAILABLE\")"
   ]
  },
  {
   "cell_type": "code",
   "execution_count": null,
   "id": "9348fb4c",
   "metadata": {},
   "outputs": [],
   "source": [
    "import tensorflow as tf\n",
    "gpus = tf.config.experimental.list_physical_devices('GPU')\n",
    "for gpu in gpus:\n",
    "    print(\"Name:\", gpu.name, \"  Type:\", gpu.device_type)"
   ]
  },
  {
   "cell_type": "code",
   "execution_count": null,
   "id": "834f509d",
   "metadata": {},
   "outputs": [],
   "source": [
    "train_dir = 'dataset/train_images'\n",
    "val_dir = 'dataset/val_images'\n",
    "test_dir = 'dataset/test_images'\n",
    "train_dir2 = 'train'\n",
    "\n",
    "#datagen = ImageDataGenerator(1./255)\n",
    "train_generator = tf.keras.preprocessing.image_dataset_from_directory(\n",
    "    train_dir2,\n",
    "    validation_split=0.2,\n",
    "    batch_size=64,\n",
    "    image_size=(256,256),\n",
    "    seed=123,\n",
    "    color_mode='rgb',\n",
    "    subset = 'training'\n",
    ")\n",
    "val_generator = tf.keras.preprocessing.image_dataset_from_directory(\n",
    "    train_dir2,\n",
    "    validation_split=0.2,\n",
    "    batch_size=64,\n",
    "    image_size=(256,256),\n",
    "    seed=123,\n",
    "    color_mode='rgb',\n",
    "    subset = 'validation'\n",
    ")\n",
    "print(train_generator.class_names)"
   ]
  },
  {
   "cell_type": "code",
   "execution_count": null,
   "id": "274aa9e2",
   "metadata": {},
   "outputs": [],
   "source": [
    "for batch, label in train_generator:\n",
    "    print(batch.shape)\n",
    "    print(label.shape)\n",
    "    break"
   ]
  },
  {
   "cell_type": "code",
   "execution_count": null,
   "id": "56c84fbc",
   "metadata": {
    "scrolled": true
   },
   "outputs": [],
   "source": [
    "#CNN model\n",
    "model = Sequential([\n",
    "    layers.experimental.preprocessing.Rescaling(1./255, input_shape=(256, 256, 3)),\n",
    "    Conv2D(64,(3,3), padding='same',activation='relu'),\n",
    "    Conv2D(64,(3,3), padding='same',activation='relu'),\n",
    "    MaxPooling2D((2,2),strides=(2,2)),\n",
    "    Conv2D(128,(3,3), padding='same',activation='relu'),\n",
    "    Conv2D(128,(3,3), padding='same',activation='relu'),\n",
    "    MaxPooling2D((2,2),strides=(2,2)),\n",
    "    Conv2D(256,(3,3), padding='same',activation='relu'),\n",
    "    Conv2D(256,(3,3), padding='same',activation='relu'),\n",
    "    Conv2D(256,(3,3), padding='same',activation='relu'),\n",
    "    MaxPooling2D((2,2),strides=(2,2)),\n",
    "    Dropout(0.2),\n",
    "    Flatten(),\n",
    "    Dense(units=512,activation=\"relu\"),\n",
    "    Dense(units=2,activation='softmax')\n",
    "])\n",
    "\n",
    "model.summary()"
   ]
  },
  {
   "cell_type": "code",
   "execution_count": null,
   "id": "9a763f9d",
   "metadata": {},
   "outputs": [],
   "source": [
    "\"\"\"model.compile(optimizer=SGD(lr=0.0001, momentum=0.9), loss=tf.keras.losses.SparseCategoricalCrossentropy(from_logits=True),\n",
    "                  metrics=['accuracy'])\"\"\"\n",
    "model.compile(optimizer='adam', loss=tf.keras.losses.SparseCategoricalCrossentropy(from_logits=True),\n",
    "                  metrics=['accuracy'])"
   ]
  },
  {
   "cell_type": "code",
   "execution_count": null,
   "id": "3d1a679f",
   "metadata": {},
   "outputs": [],
   "source": [
    "print(len(train_generator))\n",
    "print(len(val_generator))"
   ]
  },
  {
   "cell_type": "code",
   "execution_count": null,
   "id": "27a19e4f",
   "metadata": {},
   "outputs": [],
   "source": [
    "history = model.fit(train_generator,\n",
    "                    validation_data = val_generator,\n",
    "                    epochs=40)"
   ]
  },
  {
   "cell_type": "code",
   "execution_count": null,
   "id": "a46b16c9",
   "metadata": {},
   "outputs": [],
   "source": [
    "acc = history.history['accuracy']\n",
    "val_acc = history.history['val_accuracy']\n",
    "\n",
    "loss = history.history['loss']\n",
    "val_loss = history.history['val_loss']\n",
    "\n",
    "epochs_range = range(40)\n",
    "\n",
    "plt.figure(figsize=(8, 8))\n",
    "plt.subplot(1, 2, 1)\n",
    "plt.plot(epochs_range, acc, label='Training Accuracy')\n",
    "plt.plot(epochs_range, val_acc, label='Validation Accuracy')\n",
    "plt.legend(loc='lower right')\n",
    "plt.title('Training and Validation Accuracy')\n",
    "\n",
    "plt.subplot(1, 2, 2)\n",
    "plt.plot(epochs_range, loss, label='Training Loss')\n",
    "plt.plot(epochs_range, val_loss, label='Validation Loss')\n",
    "plt.legend(loc='upper right')\n",
    "plt.title('Training and Validation Loss')\n",
    "plt.show()"
   ]
  },
  {
   "cell_type": "code",
   "execution_count": null,
   "id": "9d3593aa",
   "metadata": {},
   "outputs": [],
   "source": [
    "\n",
    "test_dir = 'test'\n",
    "\n",
    "test_generator = tf.keras.preprocessing.image_dataset_from_directory(\n",
    "    test_dir,\n",
    "    batch_size=64,\n",
    "    image_size=(256,256),\n",
    "    seed=123,\n",
    "    color_mode='rgb'\n",
    ")\n",
    "\n",
    "\"\"\"dataGenerator = ImageDataGenerator(rescale=1./255)\n",
    "test_gen = dataGenerator.flow_from_directory(\n",
    "            val_dir,\n",
    "            target_size=(256,256),\n",
    "            batch_size=64,\n",
    "            class_mode='categorical'\n",
    ")\"\"\"\n",
    "\n",
    "score = model.evaluate(test_generator)"
   ]
  },
  {
   "cell_type": "code",
   "execution_count": null,
   "id": "197dade9",
   "metadata": {},
   "outputs": [],
   "source": [
    "print(score)"
   ]
  }
 ],
 "metadata": {
  "kernelspec": {
   "display_name": "Python 3",
   "language": "python",
   "name": "python3"
  },
  "language_info": {
   "codemirror_mode": {
    "name": "ipython",
    "version": 3
   },
   "file_extension": ".py",
   "mimetype": "text/x-python",
   "name": "python",
   "nbconvert_exporter": "python",
   "pygments_lexer": "ipython3",
   "version": "3.7.10"
  }
 },
 "nbformat": 4,
 "nbformat_minor": 5
}
